{
 "cells": [
  {
   "cell_type": "markdown",
   "metadata": {},
   "source": [
    "introduces a language called Pig Latin, that is a lot like SQL.\n",
    "translate into MapReduce and do things more quickly\n",
    "can also run top of Tez, directed acyclic graph, find interdepencies and run faster"
   ]
  },
  {
   "cell_type": "markdown",
   "metadata": {},
   "source": [
    "Grunt: run each line\n",
    "Script\n",
    "Ambari/Hue\n",
    "\n",
    "if execute on Tez, much quicker"
   ]
  },
  {
   "cell_type": "markdown",
   "metadata": {},
   "source": [
    "syntax:\n",
    "LOAD STORE DUMP\n",
    "    STORE ratings INTO 'ourRatings' using PigStorage(':');\n",
    "FILTER DISTINCT FOREACH/GENERATE MAPREDUCE STREAM SAMPLE\n",
    "JOIN COGROUP GROUP CROSS CUBE\n",
    "ORDER RANK LIMIT\n",
    "UNION SPLIT\n",
    "DESCRIBE EXPLAIN ILLUSTRATE\n",
    "REGISTER DEFINE IMPORT #UDF's\n",
    "AVG CONCAT COUNT MAX MIN SIZE SUM"
   ]
  },
  {
   "cell_type": "markdown",
   "metadata": {},
   "source": [
    "# Exercise 1\n",
    "find movies that have an average rating of over 4 stars and order them by release time. "
   ]
  },
  {
   "cell_type": "code",
   "execution_count": 2,
   "metadata": {},
   "outputs": [
    {
     "ename": "SyntaxError",
     "evalue": "invalid syntax (<ipython-input-2-5632f0f09fed>, line 1)",
     "output_type": "error",
     "traceback": [
      "\u001b[0;36m  File \u001b[0;32m\"<ipython-input-2-5632f0f09fed>\"\u001b[0;36m, line \u001b[0;32m1\u001b[0m\n\u001b[0;31m    ratings = LOAD '/user/maria_dev/ml-100k/u.data' AS (userID:int, movieID:int, rating:int, ratingTime:int);\u001b[0m\n\u001b[0m                   ^\u001b[0m\n\u001b[0;31mSyntaxError\u001b[0m\u001b[0;31m:\u001b[0m invalid syntax\n"
     ]
    }
   ],
   "source": [
    "ratings = LOAD '/user/maria_dev/ml-100k/u.data' AS (userID:int, movieID:int, rating:int, ratingTime:int);\n",
    "metadata = LOAD '/user/maria_dev/ml-100k/u.item' USING PigStorage('|')\n",
    "    AS (movieID:int, movieTitle:chararray, releaseDate:chararray, videoRealese:chararray, imdblink:chararray);\n",
    "#import data and identify delimiters   \n",
    "\n",
    "nameLookup = FOREACH metadata GENERATE movieID, movieTitle,\n",
    "    ToUnixTime(ToDate(releaseDate, 'dd-MMM-yyyy')) AS releaseTime;\n",
    "#restructure the data and convert time\n",
    "\n",
    "ratingsByMovie = GROUP ratings BY movieID;\n",
    "avgRatings = FOREACH ratingsByMovie GENERATE group as movieID, AVG(ratings.rating) as avgRating;\n",
    "#group by movie id and find the average ratings\n",
    "\n",
    "fiveStarMovies = FILTER avgRatings BY avgRating > 4.0;\n",
    "#apply filter \n",
    "\n",
    "fiveStarsWithData = JOIN fiveStarMovies BY movieID, nameLookup BY movieID;\n",
    "#join with the name \n",
    "\n",
    "oldestFiveStarMovies = ORDER fiveStarsWithData BY nameLookup::releaseTime;\n",
    "#order by release time \n",
    "\n",
    "DUMP oldestFiveStarMovies;\n"
   ]
  },
  {
   "cell_type": "markdown",
   "metadata": {},
   "source": [
    "# Exercise 2\n",
    "find old movies that have less than 2 stars\n",
    "rank them by the number of reviews"
   ]
  },
  {
   "cell_type": "code",
   "execution_count": null,
   "metadata": {},
   "outputs": [],
   "source": [
    "ratings = LOAD '/user/maria_dev/ml-100k/u.data' AS (userID:int, movieID:int, rating:int, ratingTime:int);\n",
    "metadata = LOAD '/user/maria_dev/ml-100k/u.item' USING PigStorage('|')\n",
    "    AS (movieID:int, movieTitle:chararray, releaseDate:chararray, videoRealese:chararray, imdblink:chararray);\n",
    "#import data and identify delimiters   \n",
    "\n",
    "nameLookup = FOREACH metadata GENERATE movieID, movieTitle,\n",
    "    ToUnixTime(ToDate(releaseDate, 'dd-MMM-yyyy')) AS releaseTime;\n",
    "#restructure the data and convert time\n",
    "\n",
    "ratingsByMovie = GROUP ratings BY movieID;\n",
    "avgRatings = FOREACH ratingsByMovie GENERATE group as movieID, AVG(ratings.rating) as avgRating,\n",
    "            COUNT(ratings.rating) as reviews;\n",
    "#group by movie id and find the average ratings and the count of reviews\n",
    "\n",
    "fiveStarMovies = FILTER avgRatings BY avgRating < 2.0;\n",
    "fiveStarsWithData = JOIN fiveStarMovies BY movieID, nameLookup BY movieID;\n",
    "\n",
    "oldestFiveStarMovies = ORDER fiveStarsWithData BY COUNT(movieID::reviews）;\n",
    "DUMP oldestFiveStarMovies;"
   ]
  }
 ],
 "metadata": {
  "kernelspec": {
   "display_name": "Python 3",
   "language": "python",
   "name": "python3"
  },
  "language_info": {
   "codemirror_mode": {
    "name": "ipython",
    "version": 3
   },
   "file_extension": ".py",
   "mimetype": "text/x-python",
   "name": "python",
   "nbconvert_exporter": "python",
   "pygments_lexer": "ipython3",
   "version": "3.8.5"
  }
 },
 "nbformat": 4,
 "nbformat_minor": 4
}
