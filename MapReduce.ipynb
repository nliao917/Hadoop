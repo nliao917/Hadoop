{
 "cells": [
  {
   "cell_type": "markdown",
   "metadata": {},
   "source": [
    "# Sample Code\n",
    "## break down movie rating by rating score"
   ]
  },
  {
   "cell_type": "code",
   "execution_count": 4,
   "metadata": {},
   "outputs": [],
   "source": [
    "from mrjob.job import MRJob\n",
    "from mrjob.step import MRStep"
   ]
  },
  {
   "cell_type": "code",
   "execution_count": 8,
   "metadata": {},
   "outputs": [],
   "source": [
    "class RatingsBreakdown(MRJob):\n",
    "    def steps(self):\n",
    "        return [\n",
    "            MRStep(mapper=self.mapper_get_ratings,\n",
    "                    reducer=self.reducer_count_ratings)\n",
    "        ]\n",
    "    def mapper_get_ratings(self, _, line):\n",
    "        (userID, movieID, rating, timestamp) = line.split(\"\\t\")\n",
    "        #tab splitted data\n",
    "        yield rating, 1\n",
    "    def reducer_count_ratings(self, key, values):\n",
    "        yield key, sum(values)\n",
    "\n",
    "#if __name__=='__main__':\n",
    "#    RatingsBreakdown.run()\n",
    "    "
   ]
  },
  {
   "cell_type": "markdown",
   "metadata": {},
   "source": [
    "# Exercise 1\n",
    "## count up ratings given for each movie"
   ]
  },
  {
   "cell_type": "code",
   "execution_count": 9,
   "metadata": {},
   "outputs": [],
   "source": [
    "from mrjob.job import MRJob\n",
    "from mrjob.step import MRStep"
   ]
  },
  {
   "cell_type": "code",
   "execution_count": 10,
   "metadata": {},
   "outputs": [],
   "source": [
    "class RatingsBreakdown(MRJob):\n",
    "    def steps(self):\n",
    "        return [\n",
    "            MRStep(mapper=self.mapper_get_ratings,\n",
    "                    reducer=self.reducer_count_ratings)\n",
    "        ]\n",
    "    def mapper_get_ratings(self, _, line):\n",
    "        (userID, movieID, rating, timestamp) = line.split(\"\\t\")\n",
    "        #tab splitted data\n",
    "        yield movieID,1\n",
    "    def reducer_count_ratings(self, key, values):\n",
    "        yield key, sum(values)\n",
    "\n",
    "#if __name__=='__main__':\n",
    "#    RatingsBreakdown.run()\n",
    "    "
   ]
  },
  {
   "cell_type": "code",
   "execution_count": null,
   "metadata": {},
   "outputs": [],
   "source": []
  },
  {
   "cell_type": "markdown",
   "metadata": {},
   "source": [
    "# Exercise 2\n",
    "## sort the movies by their number of ratings"
   ]
  },
  {
   "cell_type": "code",
   "execution_count": null,
   "metadata": {},
   "outputs": [],
   "source": [
    "from mrjob.job import MRJob\n",
    "from mrjob.step import MRStep"
   ]
  },
  {
   "cell_type": "code",
   "execution_count": 12,
   "metadata": {},
   "outputs": [],
   "source": [
    "class RatingsBreakdown(MRJob):\n",
    "    def steps(self):\n",
    "        return [\n",
    "            MRStep(mapper=self.mapper_get_ratings,\n",
    "                    reducer=self.reducer_count_ratings),\n",
    "            MRStep(reducer=self.reducer_sorted_output)\n",
    "            #a secord reducer for sorting \n",
    "        ]\n",
    "    def mapper_get_ratings(self, _, line):\n",
    "        (userID, movieID, rating, timestamp) = line.split(\"\\t\")\n",
    "        #tab splitted data\n",
    "        yield movieID,1\n",
    "    def reducer_count_ratings(self, key, values):\n",
    "         yield str(sum(values)).zfill(5),key\n",
    "        #flip the count as key and movie id as value\n",
    "        #automatically sort by the key\n",
    "        #streaming treats all input and output as stings, .zfill on the left to make sure the sort is correct \n",
    "    def reducer_sorted_output(self, count, movies):\n",
    "        for movie in movies:\n",
    "            yield movie,count\n",
    "        #iterate through each movie and print out the id and the count DESC\n",
    "\n",
    "#if __name__=='__main__':\n",
    "#    RatingsBreakdown.run()"
   ]
  },
  {
   "cell_type": "code",
   "execution_count": null,
   "metadata": {},
   "outputs": [],
   "source": []
  }
 ],
 "metadata": {
  "kernelspec": {
   "display_name": "Python 3",
   "language": "python",
   "name": "python3"
  },
  "language_info": {
   "codemirror_mode": {
    "name": "ipython",
    "version": 3
   },
   "file_extension": ".py",
   "mimetype": "text/x-python",
   "name": "python",
   "nbconvert_exporter": "python",
   "pygments_lexer": "ipython3",
   "version": "3.8.5"
  }
 },
 "nbformat": 4,
 "nbformat_minor": 4
}
